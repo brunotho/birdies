{
 "cells": [
  {
   "cell_type": "markdown",
   "metadata": {},
   "source": [
    "# Bird species exploration"
   ]
  },
  {
   "cell_type": "code",
   "execution_count": 1,
   "metadata": {},
   "outputs": [],
   "source": [
    "import pandas as pd\n",
    "import csv"
   ]
  },
  {
   "cell_type": "markdown",
   "metadata": {},
   "source": [
    "## Importing and formatting birds directory"
   ]
  },
  {
   "cell_type": "code",
   "execution_count": 2,
   "metadata": {},
   "outputs": [
    {
     "data": {
      "text/html": [
       "<div>\n",
       "<style scoped>\n",
       "    .dataframe tbody tr th:only-of-type {\n",
       "        vertical-align: middle;\n",
       "    }\n",
       "\n",
       "    .dataframe tbody tr th {\n",
       "        vertical-align: top;\n",
       "    }\n",
       "\n",
       "    .dataframe thead th {\n",
       "        text-align: right;\n",
       "    }\n",
       "</style>\n",
       "<table border=\"1\" class=\"dataframe\">\n",
       "  <thead>\n",
       "    <tr style=\"text-align: right;\">\n",
       "      <th></th>\n",
       "      <th>scientific_name</th>\n",
       "      <th>species_id</th>\n",
       "      <th>species_no</th>\n",
       "    </tr>\n",
       "    <tr>\n",
       "      <th>species_no</th>\n",
       "      <th></th>\n",
       "      <th></th>\n",
       "      <th></th>\n",
       "    </tr>\n",
       "  </thead>\n",
       "  <tbody>\n",
       "    <tr>\n",
       "      <th>1</th>\n",
       "      <td>lithoptila abdounensis</td>\n",
       "      <td>/m/0100hjcf</td>\n",
       "      <td>1</td>\n",
       "    </tr>\n",
       "    <tr>\n",
       "      <th>2</th>\n",
       "      <td>kurrartapu johnnguyeni</td>\n",
       "      <td>/m/010hmtwz</td>\n",
       "      <td>2</td>\n",
       "    </tr>\n",
       "    <tr>\n",
       "      <th>3</th>\n",
       "      <td>zosterops kirki</td>\n",
       "      <td>/m/011l7vvz</td>\n",
       "      <td>3</td>\n",
       "    </tr>\n",
       "    <tr>\n",
       "      <th>4</th>\n",
       "      <td>emberiza goslingi</td>\n",
       "      <td>/m/011py2_8</td>\n",
       "      <td>4</td>\n",
       "    </tr>\n",
       "    <tr>\n",
       "      <th>5</th>\n",
       "      <td>bambolinetta lignitifila</td>\n",
       "      <td>/m/01264yxh</td>\n",
       "      <td>5</td>\n",
       "    </tr>\n",
       "    <tr>\n",
       "      <th>...</th>\n",
       "      <td>...</td>\n",
       "      <td>...</td>\n",
       "      <td>...</td>\n",
       "    </tr>\n",
       "    <tr>\n",
       "      <th>10978</th>\n",
       "      <td>aquila chrysaetos</td>\n",
       "      <td>/m/0m41v</td>\n",
       "      <td>10978</td>\n",
       "    </tr>\n",
       "    <tr>\n",
       "      <th>10979</th>\n",
       "      <td>mallard</td>\n",
       "      <td>/m/01hjj1</td>\n",
       "      <td>10979</td>\n",
       "    </tr>\n",
       "    <tr>\n",
       "      <th>10980</th>\n",
       "      <td>bald eagle</td>\n",
       "      <td>/m/01dx8</td>\n",
       "      <td>10980</td>\n",
       "    </tr>\n",
       "    <tr>\n",
       "      <th>10981</th>\n",
       "      <td>struthio camelus</td>\n",
       "      <td>/m/05n4y</td>\n",
       "      <td>10981</td>\n",
       "    </tr>\n",
       "    <tr>\n",
       "      <th>10982</th>\n",
       "      <td>gallus gallus domesticus</td>\n",
       "      <td>/m/09b5t</td>\n",
       "      <td>10982</td>\n",
       "    </tr>\n",
       "  </tbody>\n",
       "</table>\n",
       "<p>10982 rows × 3 columns</p>\n",
       "</div>"
      ],
      "text/plain": [
       "                     scientific_name   species_id  species_no\n",
       "species_no                                                   \n",
       "1             lithoptila abdounensis  /m/0100hjcf           1\n",
       "2             kurrartapu johnnguyeni  /m/010hmtwz           2\n",
       "3                    zosterops kirki  /m/011l7vvz           3\n",
       "4                  emberiza goslingi  /m/011py2_8           4\n",
       "5           bambolinetta lignitifila  /m/01264yxh           5\n",
       "...                              ...          ...         ...\n",
       "10978              aquila chrysaetos     /m/0m41v       10978\n",
       "10979                        mallard    /m/01hjj1       10979\n",
       "10980                     bald eagle     /m/01dx8       10980\n",
       "10981               struthio camelus     /m/05n4y       10981\n",
       "10982       gallus gallus domesticus     /m/09b5t       10982\n",
       "\n",
       "[10982 rows x 3 columns]"
      ]
     },
     "execution_count": 2,
     "metadata": {},
     "output_type": "execute_result"
    }
   ],
   "source": [
    "# Update the file path as needed\n",
    "filepath_1 = '/Users/tristanspilker/code/reklips/Birds/bird_classes.txt'\n",
    "\n",
    "# Read CSV without a header\n",
    "birds_df = pd.read_csv(filepath_1, delimiter=',', header=None)\n",
    "\n",
    "# Add a new column 'species_no' equal to the original index, starting at 1\n",
    "birds_df['species_no'] = birds_df.index + 1\n",
    "\n",
    "# Ensure that the columns are treated as strings before using .str accessor\n",
    "birds_df[0] = birds_df[0].astype(str).str.strip()  # Assuming '0' is the scientific_name column\n",
    "birds_df[1] = birds_df[1].astype(str).str.strip()  # Assuming '1' is the species_id column\n",
    "\n",
    "birds_df.columns = ['scientific_name', 'species_id', 'species_no']\n",
    "\n",
    "# Set the index explicitly starting at 1\n",
    "birds_df.index = birds_df['species_no']\n",
    "\n",
    "birds_df"
   ]
  },
  {
   "cell_type": "code",
   "execution_count": 3,
   "metadata": {},
   "outputs": [],
   "source": [
    "# birds_df.to_csv('birds_df.csv', index=True)"
   ]
  },
  {
   "cell_type": "code",
   "execution_count": 4,
   "metadata": {},
   "outputs": [],
   "source": [
    "#! pwd"
   ]
  },
  {
   "cell_type": "markdown",
   "metadata": {},
   "source": [
    "## Importing and formatting image links directories"
   ]
  },
  {
   "cell_type": "markdown",
   "metadata": {},
   "source": [
    "### 1st file"
   ]
  },
  {
   "cell_type": "code",
   "execution_count": 5,
   "metadata": {},
   "outputs": [
    {
     "name": "stdout",
     "output_type": "stream",
     "text": [
      "CPU times: user 11.5 s, sys: 1.24 s, total: 12.8 s\n",
      "Wall time: 13 s\n"
     ]
    },
    {
     "data": {
      "text/html": [
       "<div>\n",
       "<style scoped>\n",
       "    .dataframe tbody tr th:only-of-type {\n",
       "        vertical-align: middle;\n",
       "    }\n",
       "\n",
       "    .dataframe tbody tr th {\n",
       "        vertical-align: top;\n",
       "    }\n",
       "\n",
       "    .dataframe thead th {\n",
       "        text-align: right;\n",
       "    }\n",
       "</style>\n",
       "<table border=\"1\" class=\"dataframe\">\n",
       "  <thead>\n",
       "    <tr style=\"text-align: right;\">\n",
       "      <th></th>\n",
       "      <th>species_id</th>\n",
       "      <th>image_url</th>\n",
       "      <th>image_id</th>\n",
       "    </tr>\n",
       "    <tr>\n",
       "      <th>index</th>\n",
       "      <th></th>\n",
       "      <th></th>\n",
       "      <th></th>\n",
       "    </tr>\n",
       "  </thead>\n",
       "  <tbody>\n",
       "    <tr>\n",
       "      <th>1</th>\n",
       "      <td>/m/02w6csr</td>\n",
       "      <td>http://www.taenos.com/img/ITIS/Dacnis-lineata-...</td>\n",
       "      <td>1</td>\n",
       "    </tr>\n",
       "    <tr>\n",
       "      <th>2</th>\n",
       "      <td>/m/02w4t3s</td>\n",
       "      <td>http://i.ytimg.com/vi/58c2xiuei-k/hqdefault.jpg</td>\n",
       "      <td>2</td>\n",
       "    </tr>\n",
       "    <tr>\n",
       "      <th>3</th>\n",
       "      <td>/m/02w4t3s</td>\n",
       "      <td>http://i4.ytimg.com/vi/58c2xiuei-k/hqdefault.jpg</td>\n",
       "      <td>2</td>\n",
       "    </tr>\n",
       "    <tr>\n",
       "      <th>4</th>\n",
       "      <td>/m/02w4t3s</td>\n",
       "      <td>https://i.ytimg.com/vi/58c2xiuei-k/hqdefault.jpg</td>\n",
       "      <td>2</td>\n",
       "    </tr>\n",
       "    <tr>\n",
       "      <th>5</th>\n",
       "      <td>/m/02w6w6c</td>\n",
       "      <td>http://farm9.static.flickr.com/8508/8585961853...</td>\n",
       "      <td>3</td>\n",
       "    </tr>\n",
       "    <tr>\n",
       "      <th>6</th>\n",
       "      <td>/m/0108t9qd</td>\n",
       "      <td>http://farm4.static.flickr.com/3246/2338256799...</td>\n",
       "      <td>4</td>\n",
       "    </tr>\n",
       "    <tr>\n",
       "      <th>7</th>\n",
       "      <td>/m/0108t9qd</td>\n",
       "      <td>https://c2.staticflickr.com/4/3246/2338256799_...</td>\n",
       "      <td>4</td>\n",
       "    </tr>\n",
       "    <tr>\n",
       "      <th>8</th>\n",
       "      <td>/m/0108t9qd</td>\n",
       "      <td>https://c4.staticflickr.com/4/3246/2338256799_...</td>\n",
       "      <td>4</td>\n",
       "    </tr>\n",
       "    <tr>\n",
       "      <th>9</th>\n",
       "      <td>/m/0108t9qd</td>\n",
       "      <td>https://c4.staticflickr.com/4/3246/2338256799_...</td>\n",
       "      <td>4</td>\n",
       "    </tr>\n",
       "    <tr>\n",
       "      <th>10</th>\n",
       "      <td>/m/0202dn</td>\n",
       "      <td>http://www.zooeco.com/Im3/Spinus%20spinus3.jpg</td>\n",
       "      <td>5</td>\n",
       "    </tr>\n",
       "  </tbody>\n",
       "</table>\n",
       "</div>"
      ],
      "text/plain": [
       "        species_id                                          image_url  \\\n",
       "index                                                                   \n",
       "1       /m/02w6csr  http://www.taenos.com/img/ITIS/Dacnis-lineata-...   \n",
       "2       /m/02w4t3s    http://i.ytimg.com/vi/58c2xiuei-k/hqdefault.jpg   \n",
       "3       /m/02w4t3s   http://i4.ytimg.com/vi/58c2xiuei-k/hqdefault.jpg   \n",
       "4       /m/02w4t3s   https://i.ytimg.com/vi/58c2xiuei-k/hqdefault.jpg   \n",
       "5       /m/02w6w6c  http://farm9.static.flickr.com/8508/8585961853...   \n",
       "6      /m/0108t9qd  http://farm4.static.flickr.com/3246/2338256799...   \n",
       "7      /m/0108t9qd  https://c2.staticflickr.com/4/3246/2338256799_...   \n",
       "8      /m/0108t9qd  https://c4.staticflickr.com/4/3246/2338256799_...   \n",
       "9      /m/0108t9qd  https://c4.staticflickr.com/4/3246/2338256799_...   \n",
       "10       /m/0202dn     http://www.zooeco.com/Im3/Spinus%20spinus3.jpg   \n",
       "\n",
       "       image_id  \n",
       "index            \n",
       "1             1  \n",
       "2             2  \n",
       "3             2  \n",
       "4             2  \n",
       "5             3  \n",
       "6             4  \n",
       "7             4  \n",
       "8             4  \n",
       "9             4  \n",
       "10            5  "
      ]
     },
     "execution_count": 5,
     "metadata": {},
     "output_type": "execute_result"
    }
   ],
   "source": [
    "%%time\n",
    "\n",
    "# Specify the file path\n",
    "filepath_2 = '/Users/tristanspilker/code/reklips/birds/bird_urls1.txt'\n",
    "\n",
    "# Create a list to store the transformed data\n",
    "transformed_data = []\n",
    "\n",
    "# Open the file and read it line by line\n",
    "with open(filepath_2, 'r') as file:\n",
    "    reader = csv.reader(file, delimiter=',')\n",
    "    \n",
    "    # Iterate through each row in the file\n",
    "    for index, row in enumerate(reader, start=1):  # Use enumerate to get both the row and its index\n",
    "        # Skip rows with fewer than 2 fields (ID and at least one URL)\n",
    "        if len(row) < 2:\n",
    "            continue\n",
    "        \n",
    "        # Extract the ID\n",
    "        bird_id = row[0]\n",
    "        \n",
    "        # Iterate through the URLs (starting from index 1)\n",
    "        for url in row[1:]:\n",
    "            # Append the transformed data to the list\n",
    "            transformed_data.append({\n",
    "                'species_id': bird_id,\n",
    "                'image_url': url,\n",
    "                'image_id': index  # New column tracking the original index\n",
    "            })\n",
    "\n",
    "# Create a DataFrame from the transformed data with index starting from 1\n",
    "bird_images_1_df = pd.DataFrame(transformed_data, index=range(1, len(transformed_data) + 1))\n",
    "\n",
    "# Strip whitespaces from the 'image_url' column\n",
    "bird_images_1_df['image_url'] = bird_images_1_df['image_url'].str.strip()\n",
    "\n",
    "# Set the name of the index column to 'index'\n",
    "bird_images_1_df.index.name = 'index'\n",
    "\n",
    "# Display the transformed DataFrame\n",
    "bird_images_1_df.head(10)"
   ]
  },
  {
   "cell_type": "code",
   "execution_count": 6,
   "metadata": {},
   "outputs": [
    {
     "data": {
      "text/plain": [
       "(5896931, 3)"
      ]
     },
     "execution_count": 6,
     "metadata": {},
     "output_type": "execute_result"
    }
   ],
   "source": [
    "bird_images_1_df.shape"
   ]
  },
  {
   "cell_type": "code",
   "execution_count": 7,
   "metadata": {},
   "outputs": [
    {
     "data": {
      "text/plain": [
       "2775486"
      ]
     },
     "execution_count": 7,
     "metadata": {},
     "output_type": "execute_result"
    }
   ],
   "source": [
    "bird_images_1_df['image_id'].max() + 1"
   ]
  },
  {
   "cell_type": "markdown",
   "metadata": {},
   "source": [
    "### 2nd file"
   ]
  },
  {
   "cell_type": "code",
   "execution_count": 8,
   "metadata": {},
   "outputs": [
    {
     "name": "stdout",
     "output_type": "stream",
     "text": [
      "CPU times: user 8.98 s, sys: 1.47 s, total: 10.5 s\n",
      "Wall time: 10.7 s\n"
     ]
    },
    {
     "data": {
      "text/html": [
       "<div>\n",
       "<style scoped>\n",
       "    .dataframe tbody tr th:only-of-type {\n",
       "        vertical-align: middle;\n",
       "    }\n",
       "\n",
       "    .dataframe tbody tr th {\n",
       "        vertical-align: top;\n",
       "    }\n",
       "\n",
       "    .dataframe thead th {\n",
       "        text-align: right;\n",
       "    }\n",
       "</style>\n",
       "<table border=\"1\" class=\"dataframe\">\n",
       "  <thead>\n",
       "    <tr style=\"text-align: right;\">\n",
       "      <th></th>\n",
       "      <th>species_id</th>\n",
       "      <th>image_url</th>\n",
       "      <th>image_id</th>\n",
       "    </tr>\n",
       "    <tr>\n",
       "      <th>index</th>\n",
       "      <th></th>\n",
       "      <th></th>\n",
       "      <th></th>\n",
       "    </tr>\n",
       "  </thead>\n",
       "  <tbody>\n",
       "    <tr>\n",
       "      <th>1</th>\n",
       "      <td>farm4.staticflickr.com/3170/3026178962_d7d94df...</td>\n",
       "      <td>https://farm4.staticflickr.com/3170/3026178962...</td>\n",
       "      <td>2775486</td>\n",
       "    </tr>\n",
       "    <tr>\n",
       "      <th>2</th>\n",
       "      <td>/m/02w50qs</td>\n",
       "      <td>http://farm4.staticflickr.com/3170/3026178962_...</td>\n",
       "      <td>2775487</td>\n",
       "    </tr>\n",
       "    <tr>\n",
       "      <th>3</th>\n",
       "      <td>/m/02w50qs</td>\n",
       "      <td>https://farm4.staticflickr.com/3170/3026178962...</td>\n",
       "      <td>2775487</td>\n",
       "    </tr>\n",
       "    <tr>\n",
       "      <th>4</th>\n",
       "      <td>/m/0c8k9l</td>\n",
       "      <td>http://www.birds-of-north-america.net/images/M...</td>\n",
       "      <td>2775488</td>\n",
       "    </tr>\n",
       "    <tr>\n",
       "      <th>5</th>\n",
       "      <td>/m/0279n9b</td>\n",
       "      <td>http://ibc.lynxeds.com/files/pictures/DSCF4623...</td>\n",
       "      <td>2775489</td>\n",
       "    </tr>\n",
       "    <tr>\n",
       "      <th>6</th>\n",
       "      <td>/m/02txxw</td>\n",
       "      <td>http://ibc.lynxeds.com/files/pictures/DSCF4623...</td>\n",
       "      <td>2775490</td>\n",
       "    </tr>\n",
       "    <tr>\n",
       "      <th>7</th>\n",
       "      <td>/m/0279d9r</td>\n",
       "      <td>http://ibc.lynxeds.com/files/pictures/DSCF4623...</td>\n",
       "      <td>2775491</td>\n",
       "    </tr>\n",
       "    <tr>\n",
       "      <th>8</th>\n",
       "      <td>/m/0f0zs6</td>\n",
       "      <td>http://ibc.lynxeds.com/files/pictures/DSCF4623...</td>\n",
       "      <td>2775492</td>\n",
       "    </tr>\n",
       "    <tr>\n",
       "      <th>9</th>\n",
       "      <td>/m/026x134</td>\n",
       "      <td>http://ibc.lynxeds.com/files/pictures/DSCF4623...</td>\n",
       "      <td>2775493</td>\n",
       "    </tr>\n",
       "    <tr>\n",
       "      <th>10</th>\n",
       "      <td>/m/0117sm6v</td>\n",
       "      <td>http://ibc.lynxeds.com/files/pictures/DSCF4623...</td>\n",
       "      <td>2775494</td>\n",
       "    </tr>\n",
       "  </tbody>\n",
       "</table>\n",
       "</div>"
      ],
      "text/plain": [
       "                                              species_id  \\\n",
       "index                                                      \n",
       "1      farm4.staticflickr.com/3170/3026178962_d7d94df...   \n",
       "2                                             /m/02w50qs   \n",
       "3                                             /m/02w50qs   \n",
       "4                                              /m/0c8k9l   \n",
       "5                                             /m/0279n9b   \n",
       "6                                              /m/02txxw   \n",
       "7                                             /m/0279d9r   \n",
       "8                                              /m/0f0zs6   \n",
       "9                                             /m/026x134   \n",
       "10                                           /m/0117sm6v   \n",
       "\n",
       "                                               image_url  image_id  \n",
       "index                                                               \n",
       "1      https://farm4.staticflickr.com/3170/3026178962...   2775486  \n",
       "2      http://farm4.staticflickr.com/3170/3026178962_...   2775487  \n",
       "3      https://farm4.staticflickr.com/3170/3026178962...   2775487  \n",
       "4      http://www.birds-of-north-america.net/images/M...   2775488  \n",
       "5      http://ibc.lynxeds.com/files/pictures/DSCF4623...   2775489  \n",
       "6      http://ibc.lynxeds.com/files/pictures/DSCF4623...   2775490  \n",
       "7      http://ibc.lynxeds.com/files/pictures/DSCF4623...   2775491  \n",
       "8      http://ibc.lynxeds.com/files/pictures/DSCF4623...   2775492  \n",
       "9      http://ibc.lynxeds.com/files/pictures/DSCF4623...   2775493  \n",
       "10     http://ibc.lynxeds.com/files/pictures/DSCF4623...   2775494  "
      ]
     },
     "execution_count": 8,
     "metadata": {},
     "output_type": "execute_result"
    }
   ],
   "source": [
    "%%time\n",
    "\n",
    "# Specify the file path\n",
    "filepath_3 = '/Users/tristanspilker/code/reklips/birds/bird_urls2.txt'\n",
    "\n",
    "# Create a list to store the transformed data\n",
    "transformed_data_2 = []\n",
    "\n",
    "# Find the starting image_id\n",
    "start_image_id = bird_images_1_df['image_id'].max() + 1 if 'image_id' in bird_images_1_df else 1\n",
    "\n",
    "# Open the file and read it line by line\n",
    "with open(filepath_3, 'r') as file:\n",
    "    reader = csv.reader(file, delimiter=',')\n",
    "    \n",
    "    # Iterate through each row in the file\n",
    "    for index, row in enumerate(reader, start=start_image_id):  # Start image_id tracking at the specified value\n",
    "        # Skip rows with fewer than 2 fields (ID and at least one URL)\n",
    "        if len(row) < 2:\n",
    "            continue\n",
    "        \n",
    "        # Extract the ID\n",
    "        bird_id = row[0]\n",
    "        \n",
    "        # Iterate through the URLs (starting from index 1)\n",
    "        for url in row[1:]:\n",
    "            # Append the transformed data to the list\n",
    "            transformed_data_2.append({\n",
    "                'species_id': bird_id,\n",
    "                'image_url': url,\n",
    "                'image_id': index  # New column tracking the original index\n",
    "            })\n",
    "\n",
    "# Create a DataFrame from the transformed data with index starting from 1\n",
    "bird_images_2_df = pd.DataFrame(transformed_data_2, index=range(1, len(transformed_data_2) + 1))\n",
    "\n",
    "# Strip whitespaces from the 'image_url' column\n",
    "bird_images_2_df['image_url'] = bird_images_2_df['image_url'].str.strip()\n",
    "\n",
    "# Set the name of the index column to 'index'\n",
    "bird_images_2_df.index.name = 'index'\n",
    "\n",
    "# Display the transformed DataFrame\n",
    "bird_images_2_df.head(10)"
   ]
  },
  {
   "cell_type": "code",
   "execution_count": 9,
   "metadata": {},
   "outputs": [
    {
     "data": {
      "text/plain": [
       "(4460889, 3)"
      ]
     },
     "execution_count": 9,
     "metadata": {},
     "output_type": "execute_result"
    }
   ],
   "source": [
    "bird_images_2_df.shape"
   ]
  },
  {
   "cell_type": "code",
   "execution_count": 10,
   "metadata": {},
   "outputs": [
    {
     "name": "stdout",
     "output_type": "stream",
     "text": [
      "CPU times: user 240 ms, sys: 143 ms, total: 382 ms\n",
      "Wall time: 383 ms\n"
     ]
    },
    {
     "data": {
      "text/html": [
       "<div>\n",
       "<style scoped>\n",
       "    .dataframe tbody tr th:only-of-type {\n",
       "        vertical-align: middle;\n",
       "    }\n",
       "\n",
       "    .dataframe tbody tr th {\n",
       "        vertical-align: top;\n",
       "    }\n",
       "\n",
       "    .dataframe thead th {\n",
       "        text-align: right;\n",
       "    }\n",
       "</style>\n",
       "<table border=\"1\" class=\"dataframe\">\n",
       "  <thead>\n",
       "    <tr style=\"text-align: right;\">\n",
       "      <th></th>\n",
       "      <th>species_id</th>\n",
       "      <th>image_url</th>\n",
       "      <th>image_id</th>\n",
       "    </tr>\n",
       "    <tr>\n",
       "      <th>index</th>\n",
       "      <th></th>\n",
       "      <th></th>\n",
       "      <th></th>\n",
       "    </tr>\n",
       "  </thead>\n",
       "  <tbody>\n",
       "    <tr>\n",
       "      <th>1</th>\n",
       "      <td>/m/02w6csr</td>\n",
       "      <td>http://www.taenos.com/img/ITIS/Dacnis-lineata-...</td>\n",
       "      <td>1</td>\n",
       "    </tr>\n",
       "    <tr>\n",
       "      <th>2</th>\n",
       "      <td>/m/02w4t3s</td>\n",
       "      <td>http://i.ytimg.com/vi/58c2xiuei-k/hqdefault.jpg</td>\n",
       "      <td>2</td>\n",
       "    </tr>\n",
       "    <tr>\n",
       "      <th>3</th>\n",
       "      <td>/m/02w4t3s</td>\n",
       "      <td>http://i4.ytimg.com/vi/58c2xiuei-k/hqdefault.jpg</td>\n",
       "      <td>2</td>\n",
       "    </tr>\n",
       "    <tr>\n",
       "      <th>4</th>\n",
       "      <td>/m/02w4t3s</td>\n",
       "      <td>https://i.ytimg.com/vi/58c2xiuei-k/hqdefault.jpg</td>\n",
       "      <td>2</td>\n",
       "    </tr>\n",
       "    <tr>\n",
       "      <th>5</th>\n",
       "      <td>/m/02w6w6c</td>\n",
       "      <td>http://farm9.static.flickr.com/8508/8585961853...</td>\n",
       "      <td>3</td>\n",
       "    </tr>\n",
       "    <tr>\n",
       "      <th>6</th>\n",
       "      <td>/m/0108t9qd</td>\n",
       "      <td>http://farm4.static.flickr.com/3246/2338256799...</td>\n",
       "      <td>4</td>\n",
       "    </tr>\n",
       "    <tr>\n",
       "      <th>7</th>\n",
       "      <td>/m/0108t9qd</td>\n",
       "      <td>https://c2.staticflickr.com/4/3246/2338256799_...</td>\n",
       "      <td>4</td>\n",
       "    </tr>\n",
       "    <tr>\n",
       "      <th>8</th>\n",
       "      <td>/m/0108t9qd</td>\n",
       "      <td>https://c4.staticflickr.com/4/3246/2338256799_...</td>\n",
       "      <td>4</td>\n",
       "    </tr>\n",
       "    <tr>\n",
       "      <th>9</th>\n",
       "      <td>/m/0108t9qd</td>\n",
       "      <td>https://c4.staticflickr.com/4/3246/2338256799_...</td>\n",
       "      <td>4</td>\n",
       "    </tr>\n",
       "    <tr>\n",
       "      <th>10</th>\n",
       "      <td>/m/0202dn</td>\n",
       "      <td>http://www.zooeco.com/Im3/Spinus%20spinus3.jpg</td>\n",
       "      <td>5</td>\n",
       "    </tr>\n",
       "  </tbody>\n",
       "</table>\n",
       "</div>"
      ],
      "text/plain": [
       "        species_id                                          image_url  \\\n",
       "index                                                                   \n",
       "1       /m/02w6csr  http://www.taenos.com/img/ITIS/Dacnis-lineata-...   \n",
       "2       /m/02w4t3s    http://i.ytimg.com/vi/58c2xiuei-k/hqdefault.jpg   \n",
       "3       /m/02w4t3s   http://i4.ytimg.com/vi/58c2xiuei-k/hqdefault.jpg   \n",
       "4       /m/02w4t3s   https://i.ytimg.com/vi/58c2xiuei-k/hqdefault.jpg   \n",
       "5       /m/02w6w6c  http://farm9.static.flickr.com/8508/8585961853...   \n",
       "6      /m/0108t9qd  http://farm4.static.flickr.com/3246/2338256799...   \n",
       "7      /m/0108t9qd  https://c2.staticflickr.com/4/3246/2338256799_...   \n",
       "8      /m/0108t9qd  https://c4.staticflickr.com/4/3246/2338256799_...   \n",
       "9      /m/0108t9qd  https://c4.staticflickr.com/4/3246/2338256799_...   \n",
       "10       /m/0202dn     http://www.zooeco.com/Im3/Spinus%20spinus3.jpg   \n",
       "\n",
       "       image_id  \n",
       "index            \n",
       "1             1  \n",
       "2             2  \n",
       "3             2  \n",
       "4             2  \n",
       "5             3  \n",
       "6             4  \n",
       "7             4  \n",
       "8             4  \n",
       "9             4  \n",
       "10            5  "
      ]
     },
     "execution_count": 10,
     "metadata": {},
     "output_type": "execute_result"
    }
   ],
   "source": [
    "%%time\n",
    "\n",
    "bird_images_master_df = pd.concat([bird_images_1_df, bird_images_2_df], axis=0)\n",
    "\n",
    "bird_images_master_df.head(10)"
   ]
  },
  {
   "cell_type": "code",
   "execution_count": 11,
   "metadata": {},
   "outputs": [
    {
     "data": {
      "text/plain": [
       "(10357820, 3)"
      ]
     },
     "execution_count": 11,
     "metadata": {},
     "output_type": "execute_result"
    }
   ],
   "source": [
    "bird_images_master_df.shape"
   ]
  },
  {
   "cell_type": "markdown",
   "metadata": {},
   "source": [
    "### Plausability check | collecting some descriptive statistics about the data frame"
   ]
  },
  {
   "cell_type": "markdown",
   "metadata": {},
   "source": [
    "Number of links per image:"
   ]
  },
  {
   "cell_type": "code",
   "execution_count": 12,
   "metadata": {},
   "outputs": [
    {
     "name": "stdout",
     "output_type": "stream",
     "text": [
      "CPU times: user 914 ms, sys: 248 ms, total: 1.16 s\n",
      "Wall time: 1.27 s\n"
     ]
    },
    {
     "data": {
      "text/plain": [
       "image_id\n",
       "732763     420\n",
       "3124904    400\n",
       "1442064    400\n",
       "3124905    400\n",
       "2721885    400\n",
       "          ... \n",
       "11           1\n",
       "10           1\n",
       "9            1\n",
       "6            1\n",
       "3665413      1\n",
       "Name: count, Length: 4887217, dtype: int64"
      ]
     },
     "execution_count": 12,
     "metadata": {},
     "output_type": "execute_result"
    }
   ],
   "source": [
    "%%time\n",
    "\n",
    "bird_images_master_df['image_id'].value_counts()"
   ]
  },
  {
   "cell_type": "markdown",
   "metadata": {},
   "source": [
    "Number of different images:"
   ]
  },
  {
   "cell_type": "code",
   "execution_count": 13,
   "metadata": {},
   "outputs": [
    {
     "data": {
      "text/plain": [
       "4887217"
      ]
     },
     "execution_count": 13,
     "metadata": {},
     "output_type": "execute_result"
    }
   ],
   "source": [
    "diff_img = bird_images_master_df['image_id'].nunique()\n",
    "diff_img"
   ]
  },
  {
   "cell_type": "markdown",
   "metadata": {},
   "source": [
    "Number of species:"
   ]
  },
  {
   "cell_type": "code",
   "execution_count": 14,
   "metadata": {
    "scrolled": true
   },
   "outputs": [
    {
     "data": {
      "text/plain": [
       "10983"
      ]
     },
     "execution_count": 14,
     "metadata": {},
     "output_type": "execute_result"
    }
   ],
   "source": [
    "num_spec = bird_images_master_df['species_id'].nunique()\n",
    "num_spec"
   ]
  },
  {
   "cell_type": "markdown",
   "metadata": {},
   "source": [
    "Average number of images / species"
   ]
  },
  {
   "cell_type": "code",
   "execution_count": 15,
   "metadata": {},
   "outputs": [
    {
     "data": {
      "text/plain": [
       "444.980151142675"
      ]
     },
     "execution_count": 15,
     "metadata": {},
     "output_type": "execute_result"
    }
   ],
   "source": [
    "img_p_spec = diff_img / num_spec\n",
    "img_p_spec"
   ]
  },
  {
   "cell_type": "code",
   "execution_count": 16,
   "metadata": {},
   "outputs": [],
   "source": [
    "# bird_images_master_df.to_csv('bird_images_master_df.csv', index=True)"
   ]
  },
  {
   "cell_type": "code",
   "execution_count": 17,
   "metadata": {},
   "outputs": [],
   "source": [
    "# ! pwd"
   ]
  },
  {
   "cell_type": "markdown",
   "metadata": {},
   "source": [
    "## Joining all three tables"
   ]
  },
  {
   "cell_type": "code",
   "execution_count": 18,
   "metadata": {
    "scrolled": true
   },
   "outputs": [
    {
     "name": "stdout",
     "output_type": "stream",
     "text": [
      "CPU times: user 6.57 s, sys: 547 ms, total: 7.12 s\n",
      "Wall time: 7.19 s\n"
     ]
    },
    {
     "data": {
      "text/html": [
       "<div>\n",
       "<style scoped>\n",
       "    .dataframe tbody tr th:only-of-type {\n",
       "        vertical-align: middle;\n",
       "    }\n",
       "\n",
       "    .dataframe tbody tr th {\n",
       "        vertical-align: top;\n",
       "    }\n",
       "\n",
       "    .dataframe thead th {\n",
       "        text-align: right;\n",
       "    }\n",
       "</style>\n",
       "<table border=\"1\" class=\"dataframe\">\n",
       "  <thead>\n",
       "    <tr style=\"text-align: right;\">\n",
       "      <th></th>\n",
       "      <th>image_url</th>\n",
       "      <th>image_id</th>\n",
       "      <th>scientific_name</th>\n",
       "      <th>species_no</th>\n",
       "    </tr>\n",
       "  </thead>\n",
       "  <tbody>\n",
       "    <tr>\n",
       "      <th>0</th>\n",
       "      <td>http://www.taenos.com/img/ITIS/Dacnis-lineata-...</td>\n",
       "      <td>1</td>\n",
       "      <td>dacnis lineata</td>\n",
       "      <td>7319</td>\n",
       "    </tr>\n",
       "    <tr>\n",
       "      <th>1</th>\n",
       "      <td>http://41.media.tumblr.com/tumblr_m81kchMiQn1r...</td>\n",
       "      <td>8100</td>\n",
       "      <td>dacnis lineata</td>\n",
       "      <td>7319</td>\n",
       "    </tr>\n",
       "    <tr>\n",
       "      <th>2</th>\n",
       "      <td>http://madarbarat-lexikon.hu/images/dacnis%20c...</td>\n",
       "      <td>17844</td>\n",
       "      <td>dacnis lineata</td>\n",
       "      <td>7319</td>\n",
       "    </tr>\n",
       "    <tr>\n",
       "      <th>3</th>\n",
       "      <td>http://t3.gstatic.com/images?q=tbn:ANd9GcSG87H...</td>\n",
       "      <td>20557</td>\n",
       "      <td>dacnis lineata</td>\n",
       "      <td>7319</td>\n",
       "    </tr>\n",
       "    <tr>\n",
       "      <th>4</th>\n",
       "      <td>https://c2.staticflickr.com/4/3836/14737184263...</td>\n",
       "      <td>22123</td>\n",
       "      <td>dacnis lineata</td>\n",
       "      <td>7319</td>\n",
       "    </tr>\n",
       "    <tr>\n",
       "      <th>...</th>\n",
       "      <td>...</td>\n",
       "      <td>...</td>\n",
       "      <td>...</td>\n",
       "      <td>...</td>\n",
       "    </tr>\n",
       "    <tr>\n",
       "      <th>10357814</th>\n",
       "      <td>http://c5.statcounter.com/counter.php?sc_proje...</td>\n",
       "      <td>3371585</td>\n",
       "      <td>scolopax rosenbergi</td>\n",
       "      <td>181</td>\n",
       "    </tr>\n",
       "    <tr>\n",
       "      <th>10357815</th>\n",
       "      <td>https://c.statcounter.com/10601132/0/b39882cb/0/</td>\n",
       "      <td>3371585</td>\n",
       "      <td>scolopax rosenbergi</td>\n",
       "      <td>181</td>\n",
       "    </tr>\n",
       "    <tr>\n",
       "      <th>10357816</th>\n",
       "      <td>http://i74.servimg.com/u/f74/15/84/98/82/final...</td>\n",
       "      <td>3767414</td>\n",
       "      <td>scolopax rosenbergi</td>\n",
       "      <td>181</td>\n",
       "    </tr>\n",
       "    <tr>\n",
       "      <th>10357817</th>\n",
       "      <td>http://ecx.images-amazon.com/images/I/513ReDIt...</td>\n",
       "      <td>4612387</td>\n",
       "      <td>scolopax rosenbergi</td>\n",
       "      <td>181</td>\n",
       "    </tr>\n",
       "    <tr>\n",
       "      <th>10357818</th>\n",
       "      <td>http://t0.gstatic.com/images?q=tbn:ANd9GcR-za0...</td>\n",
       "      <td>4651952</td>\n",
       "      <td>scolopax rosenbergi</td>\n",
       "      <td>181</td>\n",
       "    </tr>\n",
       "  </tbody>\n",
       "</table>\n",
       "<p>10357819 rows × 4 columns</p>\n",
       "</div>"
      ],
      "text/plain": [
       "                                                  image_url  image_id  \\\n",
       "0         http://www.taenos.com/img/ITIS/Dacnis-lineata-...         1   \n",
       "1         http://41.media.tumblr.com/tumblr_m81kchMiQn1r...      8100   \n",
       "2         http://madarbarat-lexikon.hu/images/dacnis%20c...     17844   \n",
       "3         http://t3.gstatic.com/images?q=tbn:ANd9GcSG87H...     20557   \n",
       "4         https://c2.staticflickr.com/4/3836/14737184263...     22123   \n",
       "...                                                     ...       ...   \n",
       "10357814  http://c5.statcounter.com/counter.php?sc_proje...   3371585   \n",
       "10357815   https://c.statcounter.com/10601132/0/b39882cb/0/   3371585   \n",
       "10357816  http://i74.servimg.com/u/f74/15/84/98/82/final...   3767414   \n",
       "10357817  http://ecx.images-amazon.com/images/I/513ReDIt...   4612387   \n",
       "10357818  http://t0.gstatic.com/images?q=tbn:ANd9GcR-za0...   4651952   \n",
       "\n",
       "              scientific_name  species_no  \n",
       "0              dacnis lineata        7319  \n",
       "1              dacnis lineata        7319  \n",
       "2              dacnis lineata        7319  \n",
       "3              dacnis lineata        7319  \n",
       "4              dacnis lineata        7319  \n",
       "...                       ...         ...  \n",
       "10357814  scolopax rosenbergi         181  \n",
       "10357815  scolopax rosenbergi         181  \n",
       "10357816  scolopax rosenbergi         181  \n",
       "10357817  scolopax rosenbergi         181  \n",
       "10357818  scolopax rosenbergi         181  \n",
       "\n",
       "[10357819 rows x 4 columns]"
      ]
     },
     "execution_count": 18,
     "metadata": {},
     "output_type": "execute_result"
    }
   ],
   "source": [
    "%%time\n",
    "\n",
    "bird_master_df = pd.merge(bird_images_master_df, birds_df, on='species_id', how='inner')\n",
    "\n",
    "columns_ = ['species_id']\n",
    "\n",
    "bird_master_df = bird_master_df.drop(columns=columns_)\n",
    "\n",
    "bird_master_df"
   ]
  },
  {
   "cell_type": "code",
   "execution_count": 26,
   "metadata": {},
   "outputs": [],
   "source": [
    "bird_master_df.to_csv('bird_master_df.csv', index=True)"
   ]
  },
  {
   "cell_type": "code",
   "execution_count": 27,
   "metadata": {},
   "outputs": [
    {
     "name": "stdout",
     "output_type": "stream",
     "text": [
      "/Users/tristanspilker/code/brunothormaehlen/birdies/notebooks\n"
     ]
    }
   ],
   "source": [
    "! pwd"
   ]
  },
  {
   "cell_type": "markdown",
   "metadata": {},
   "source": [
    "### Plausibility check"
   ]
  },
  {
   "cell_type": "markdown",
   "metadata": {},
   "source": [
    "Number of links per image:"
   ]
  },
  {
   "cell_type": "code",
   "execution_count": 19,
   "metadata": {},
   "outputs": [
    {
     "name": "stdout",
     "output_type": "stream",
     "text": [
      "CPU times: user 668 ms, sys: 237 ms, total: 906 ms\n",
      "Wall time: 915 ms\n"
     ]
    },
    {
     "data": {
      "text/plain": [
       "image_id\n",
       "732763     420\n",
       "1442064    400\n",
       "1442070    400\n",
       "1442067    400\n",
       "1442066    400\n",
       "          ... \n",
       "3315523      1\n",
       "3345747      1\n",
       "3350989      1\n",
       "3445866      1\n",
       "3496841      1\n",
       "Name: count, Length: 4887216, dtype: int64"
      ]
     },
     "execution_count": 19,
     "metadata": {},
     "output_type": "execute_result"
    }
   ],
   "source": [
    "%%time\n",
    "\n",
    "bird_master_df['image_id'].value_counts()"
   ]
  },
  {
   "cell_type": "markdown",
   "metadata": {},
   "source": [
    "Number of different images:"
   ]
  },
  {
   "cell_type": "code",
   "execution_count": 20,
   "metadata": {},
   "outputs": [
    {
     "data": {
      "text/plain": [
       "4887217"
      ]
     },
     "execution_count": 20,
     "metadata": {},
     "output_type": "execute_result"
    }
   ],
   "source": [
    "diff_img = bird_images_master_df['image_id'].nunique()\n",
    "diff_img"
   ]
  },
  {
   "cell_type": "markdown",
   "metadata": {},
   "source": [
    "Number of species:"
   ]
  },
  {
   "cell_type": "code",
   "execution_count": 21,
   "metadata": {},
   "outputs": [
    {
     "name": "stdout",
     "output_type": "stream",
     "text": [
      "CPU times: user 63.5 ms, sys: 13.1 ms, total: 76.5 ms\n",
      "Wall time: 78.3 ms\n"
     ]
    },
    {
     "data": {
      "text/plain": [
       "10982"
      ]
     },
     "execution_count": 21,
     "metadata": {},
     "output_type": "execute_result"
    }
   ],
   "source": [
    "%%time\n",
    "\n",
    "num_spec = bird_master_df['species_no'].nunique()\n",
    "num_spec"
   ]
  },
  {
   "cell_type": "markdown",
   "metadata": {},
   "source": [
    "Average number of images / species"
   ]
  },
  {
   "cell_type": "code",
   "execution_count": 22,
   "metadata": {},
   "outputs": [
    {
     "data": {
      "text/plain": [
       "445.0206701875797"
      ]
     },
     "execution_count": 22,
     "metadata": {},
     "output_type": "execute_result"
    }
   ],
   "source": [
    "img_p_spec = diff_img / num_spec\n",
    "img_p_spec"
   ]
  },
  {
   "cell_type": "markdown",
   "metadata": {},
   "source": [
    "## Looping over joined data frame to retrieve images for selected birds (MVP #1)"
   ]
  },
  {
   "cell_type": "code",
   "execution_count": 23,
   "metadata": {},
   "outputs": [
    {
     "data": {
      "text/html": [
       "<div>\n",
       "<style scoped>\n",
       "    .dataframe tbody tr th:only-of-type {\n",
       "        vertical-align: middle;\n",
       "    }\n",
       "\n",
       "    .dataframe tbody tr th {\n",
       "        vertical-align: top;\n",
       "    }\n",
       "\n",
       "    .dataframe thead th {\n",
       "        text-align: right;\n",
       "    }\n",
       "</style>\n",
       "<table border=\"1\" class=\"dataframe\">\n",
       "  <thead>\n",
       "    <tr style=\"text-align: right;\">\n",
       "      <th></th>\n",
       "      <th>Selected Birds - Berlin Birds</th>\n",
       "      <th>scientific_name</th>\n",
       "    </tr>\n",
       "  </thead>\n",
       "  <tbody>\n",
       "    <tr>\n",
       "      <th>1</th>\n",
       "      <td>acanthis cabaret,/m/02p1n8h</td>\n",
       "      <td>acanthis cabaret</td>\n",
       "    </tr>\n",
       "    <tr>\n",
       "      <th>2</th>\n",
       "      <td>gavia arctica,/m/019277</td>\n",
       "      <td>gavia arctica</td>\n",
       "    </tr>\n",
       "    <tr>\n",
       "      <th>3</th>\n",
       "      <td>melanitta fusca,/m/01xqg0</td>\n",
       "      <td>melanitta fusca</td>\n",
       "    </tr>\n",
       "    <tr>\n",
       "      <th>4</th>\n",
       "      <td>aythya nyroca,/m/01srm0</td>\n",
       "      <td>aythya nyroca</td>\n",
       "    </tr>\n",
       "    <tr>\n",
       "      <th>5</th>\n",
       "      <td>melanitta nigra,/m/01wz_x</td>\n",
       "      <td>melanitta nigra</td>\n",
       "    </tr>\n",
       "    <tr>\n",
       "      <th>6</th>\n",
       "      <td>podiceps nigricollis,/m/01cybj</td>\n",
       "      <td>podiceps nigricollis</td>\n",
       "    </tr>\n",
       "    <tr>\n",
       "      <th>7</th>\n",
       "      <td>gavia stellata,/m/019299</td>\n",
       "      <td>gavia stellata</td>\n",
       "    </tr>\n",
       "    <tr>\n",
       "      <th>8</th>\n",
       "      <td>larus cachinnans,/m/0211f4</td>\n",
       "      <td>larus cachinnans</td>\n",
       "    </tr>\n",
       "    <tr>\n",
       "      <th>9</th>\n",
       "      <td>poecile montanus,/m/01kvsq</td>\n",
       "      <td>poecile montanus</td>\n",
       "    </tr>\n",
       "    <tr>\n",
       "      <th>10</th>\n",
       "      <td>geronticus eremita,/m/01jfd5</td>\n",
       "      <td>geronticus eremita</td>\n",
       "    </tr>\n",
       "    <tr>\n",
       "      <th>11</th>\n",
       "      <td>dryobates minor,/m/01c0cv</td>\n",
       "      <td>dryobates minor</td>\n",
       "    </tr>\n",
       "    <tr>\n",
       "      <th>12</th>\n",
       "      <td>fringilla montifringilla,/m/01_6mc</td>\n",
       "      <td>fringilla montifringilla</td>\n",
       "    </tr>\n",
       "    <tr>\n",
       "      <th>13</th>\n",
       "      <td>dryocopus martius,/m/01w_q3</td>\n",
       "      <td>dryocopus martius</td>\n",
       "    </tr>\n",
       "    <tr>\n",
       "      <th>14</th>\n",
       "      <td>loxia curvirostra,/m/0202j5</td>\n",
       "      <td>loxia curvirostra</td>\n",
       "    </tr>\n",
       "    <tr>\n",
       "      <th>15</th>\n",
       "      <td>picus viridis,/m/01c11h</td>\n",
       "      <td>picus viridis</td>\n",
       "    </tr>\n",
       "    <tr>\n",
       "      <th>16</th>\n",
       "      <td>spinus spinus,/m/0202dn</td>\n",
       "      <td>spinus spinus</td>\n",
       "    </tr>\n",
       "    <tr>\n",
       "      <th>17</th>\n",
       "      <td>corvus cornix,/m/01bw5m</td>\n",
       "      <td>corvus cornix</td>\n",
       "    </tr>\n",
       "    <tr>\n",
       "      <th>18</th>\n",
       "      <td>passer montanus,/m/01bwbt</td>\n",
       "      <td>passer montanus</td>\n",
       "    </tr>\n",
       "    <tr>\n",
       "      <th>19</th>\n",
       "      <td>scolopax rusticola,/m/01tn74</td>\n",
       "      <td>scolopax rusticola</td>\n",
       "    </tr>\n",
       "    <tr>\n",
       "      <th>20</th>\n",
       "      <td>asio otus,/m/01v_4s</td>\n",
       "      <td>asio otus</td>\n",
       "    </tr>\n",
       "    <tr>\n",
       "      <th>21</th>\n",
       "      <td>buteo buteo,/m/01b_3</td>\n",
       "      <td>buteo buteo</td>\n",
       "    </tr>\n",
       "    <tr>\n",
       "      <th>22</th>\n",
       "      <td>strix aluco,/m/01cg0x</td>\n",
       "      <td>strix aluco</td>\n",
       "    </tr>\n",
       "  </tbody>\n",
       "</table>\n",
       "</div>"
      ],
      "text/plain": [
       "         Selected Birds - Berlin Birds           scientific_name\n",
       "1          acanthis cabaret,/m/02p1n8h          acanthis cabaret\n",
       "2              gavia arctica,/m/019277             gavia arctica\n",
       "3            melanitta fusca,/m/01xqg0           melanitta fusca\n",
       "4              aythya nyroca,/m/01srm0             aythya nyroca\n",
       "5            melanitta nigra,/m/01wz_x           melanitta nigra\n",
       "6       podiceps nigricollis,/m/01cybj      podiceps nigricollis\n",
       "7             gavia stellata,/m/019299            gavia stellata\n",
       "8           larus cachinnans,/m/0211f4          larus cachinnans\n",
       "9           poecile montanus,/m/01kvsq          poecile montanus\n",
       "10        geronticus eremita,/m/01jfd5        geronticus eremita\n",
       "11           dryobates minor,/m/01c0cv           dryobates minor\n",
       "12  fringilla montifringilla,/m/01_6mc  fringilla montifringilla\n",
       "13         dryocopus martius,/m/01w_q3         dryocopus martius\n",
       "14         loxia curvirostra,/m/0202j5         loxia curvirostra\n",
       "15             picus viridis,/m/01c11h             picus viridis\n",
       "16             spinus spinus,/m/0202dn             spinus spinus\n",
       "17             corvus cornix,/m/01bw5m             corvus cornix\n",
       "18           passer montanus,/m/01bwbt           passer montanus\n",
       "19        scolopax rusticola,/m/01tn74        scolopax rusticola\n",
       "20                 asio otus,/m/01v_4s                 asio otus\n",
       "21                buteo buteo,/m/01b_3               buteo buteo\n",
       "22               strix aluco,/m/01cg0x               strix aluco"
      ]
     },
     "execution_count": 23,
     "metadata": {},
     "output_type": "execute_result"
    }
   ],
   "source": [
    "# Importing list of selected bird provided by data analytics team\n",
    "\n",
    "filepath_4 = '/Users/tristanspilker/code/reklips/Birds/selected_birds.csv'\n",
    "\n",
    "selec_birds_df = pd.read_csv(filepath_4, delimiter=',')\n",
    "\n",
    "# Drop the first row in place\n",
    "selec_birds_df.drop(0, inplace=True)\n",
    "\n",
    "# Rename the second column to 'scientific_name'\n",
    "selec_birds_df = selec_birds_df.rename(columns={'Unnamed: 1': 'scientific_name'})\n",
    "\n",
    "# Display the modified DataFrame\n",
    "selec_birds_df"
   ]
  },
  {
   "cell_type": "code",
   "execution_count": 24,
   "metadata": {
    "scrolled": true
   },
   "outputs": [
    {
     "data": {
      "text/html": [
       "<div>\n",
       "<style scoped>\n",
       "    .dataframe tbody tr th:only-of-type {\n",
       "        vertical-align: middle;\n",
       "    }\n",
       "\n",
       "    .dataframe tbody tr th {\n",
       "        vertical-align: top;\n",
       "    }\n",
       "\n",
       "    .dataframe thead th {\n",
       "        text-align: right;\n",
       "    }\n",
       "</style>\n",
       "<table border=\"1\" class=\"dataframe\">\n",
       "  <thead>\n",
       "    <tr style=\"text-align: right;\">\n",
       "      <th></th>\n",
       "      <th>species_no</th>\n",
       "    </tr>\n",
       "  </thead>\n",
       "  <tbody>\n",
       "    <tr>\n",
       "      <th>0</th>\n",
       "      <td>9369</td>\n",
       "    </tr>\n",
       "    <tr>\n",
       "      <th>1</th>\n",
       "      <td>10474</td>\n",
       "    </tr>\n",
       "    <tr>\n",
       "      <th>2</th>\n",
       "      <td>10477</td>\n",
       "    </tr>\n",
       "    <tr>\n",
       "      <th>3</th>\n",
       "      <td>10491</td>\n",
       "    </tr>\n",
       "    <tr>\n",
       "      <th>4</th>\n",
       "      <td>10492</td>\n",
       "    </tr>\n",
       "    <tr>\n",
       "      <th>5</th>\n",
       "      <td>10502</td>\n",
       "    </tr>\n",
       "    <tr>\n",
       "      <th>6</th>\n",
       "      <td>10512</td>\n",
       "    </tr>\n",
       "    <tr>\n",
       "      <th>7</th>\n",
       "      <td>10530</td>\n",
       "    </tr>\n",
       "    <tr>\n",
       "      <th>8</th>\n",
       "      <td>10535</td>\n",
       "    </tr>\n",
       "    <tr>\n",
       "      <th>9</th>\n",
       "      <td>10588</td>\n",
       "    </tr>\n",
       "    <tr>\n",
       "      <th>10</th>\n",
       "      <td>10664</td>\n",
       "    </tr>\n",
       "    <tr>\n",
       "      <th>11</th>\n",
       "      <td>10757</td>\n",
       "    </tr>\n",
       "    <tr>\n",
       "      <th>12</th>\n",
       "      <td>10768</td>\n",
       "    </tr>\n",
       "    <tr>\n",
       "      <th>13</th>\n",
       "      <td>10781</td>\n",
       "    </tr>\n",
       "    <tr>\n",
       "      <th>14</th>\n",
       "      <td>10840</td>\n",
       "    </tr>\n",
       "    <tr>\n",
       "      <th>15</th>\n",
       "      <td>10848</td>\n",
       "    </tr>\n",
       "    <tr>\n",
       "      <th>16</th>\n",
       "      <td>10870</td>\n",
       "    </tr>\n",
       "    <tr>\n",
       "      <th>17</th>\n",
       "      <td>10878</td>\n",
       "    </tr>\n",
       "    <tr>\n",
       "      <th>18</th>\n",
       "      <td>10883</td>\n",
       "    </tr>\n",
       "    <tr>\n",
       "      <th>19</th>\n",
       "      <td>10919</td>\n",
       "    </tr>\n",
       "    <tr>\n",
       "      <th>20</th>\n",
       "      <td>10921</td>\n",
       "    </tr>\n",
       "    <tr>\n",
       "      <th>21</th>\n",
       "      <td>10937</td>\n",
       "    </tr>\n",
       "  </tbody>\n",
       "</table>\n",
       "</div>"
      ],
      "text/plain": [
       "    species_no\n",
       "0         9369\n",
       "1        10474\n",
       "2        10477\n",
       "3        10491\n",
       "4        10492\n",
       "5        10502\n",
       "6        10512\n",
       "7        10530\n",
       "8        10535\n",
       "9        10588\n",
       "10       10664\n",
       "11       10757\n",
       "12       10768\n",
       "13       10781\n",
       "14       10840\n",
       "15       10848\n",
       "16       10870\n",
       "17       10878\n",
       "18       10883\n",
       "19       10919\n",
       "20       10921\n",
       "21       10937"
      ]
     },
     "execution_count": 24,
     "metadata": {},
     "output_type": "execute_result"
    }
   ],
   "source": [
    "# Introduce species number based on birds input and dropping all redundant information\n",
    "\n",
    "selec_birds_df  = pd.merge(selec_birds_df, birds_df, on='scientific_name', how='inner')\n",
    "\n",
    "columns_tbd = ['Selected Birds - Berlin Birds', 'species_id', 'scientific_name']\n",
    "\n",
    "selec_birds_df = selec_birds_df.drop(columns=columns_tbd)\n",
    "\n",
    "selec_birds_df"
   ]
  },
  {
   "cell_type": "markdown",
   "metadata": {},
   "source": [
    "# Function (!) that retrieves images, drops them into folders, labels the files, etc."
   ]
  },
  {
   "cell_type": "code",
   "execution_count": 25,
   "metadata": {},
   "outputs": [
    {
     "ename": "SyntaxError",
     "evalue": "invalid syntax (1234571744.py, line 6)",
     "output_type": "error",
     "traceback": [
      "\u001b[0;36m  Cell \u001b[0;32mIn[25], line 6\u001b[0;36m\u001b[0m\n\u001b[0;31m    number = # to be defined\u001b[0m\n\u001b[0m             ^\u001b[0m\n\u001b[0;31mSyntaxError\u001b[0m\u001b[0;31m:\u001b[0m invalid syntax\n"
     ]
    }
   ],
   "source": [
    "### Viktor's initial suggestion\n",
    "\n",
    "\n",
    "def test(df_images, species, mydir=False):\n",
    "    size=(256, 256)\n",
    "    number = # to be defined\n",
    "    if mydir=False:\n",
    "        mydir = os.getcwd()\n",
    "        im_dir = f'{mydir}/{species}_{number}.png'\n",
    "\n",
    "    df_ = df_images[df_images == species]\n",
    "    url_im = df_.image_url\n",
    "    response = requests.get(url_im)\n",
    "    if response.status_code = 200:\n",
    "        im = Image.open(BytesIO(response.content))\n",
    "        im.thumbnail(size,Image.ANTIALIAS)\n",
    "        im.save(im_dir)\n",
    "    else:"
   ]
  },
  {
   "cell_type": "code",
   "execution_count": null,
   "metadata": {},
   "outputs": [],
   "source": [
    "#### Starting point\n",
    "\n",
    "\n",
    "### Function that takes species_no as input\n",
    "\n",
    "import requests\n",
    "import PIL import Image\n",
    "from io import BytesIO\n",
    "\n",
    "def image_retrieval(bird_master_df, selection_df, mydir=False):\n",
    "    \n",
    "    size = (256, 256)\n",
    "    \n",
    "    # Create one folder per species_no and label corresponding to temp_df['species_no'], if it doesn't exist yet\n",
    "    if mydir = False:\n",
    "        mydir = os.getcw()\n",
    "        # number should be 4 digits per species_no, start from 0001 and count up\n",
    "        im_dir = f'{mydir}/{species_no}_{number}.png'\n",
    "\n",
    "    ## Temporary merged data frame based on filtered version of bird_master_df\n",
    "    # Should contain every row from bird_master_df that contains species_no of selection_df['species_no'] \n",
    "    temp_df = bird_master_df[bird_master_df['species_no'] == selection_df['species_no']]\n",
    "    \n",
    "    # Locate download links\n",
    "    url_im = temp_df['image_url']\n",
    "    \n",
    "    # Attempt download via link ('image_url') in resulting data frame\n",
    "    # Add image_id to a list if download was successful (i. e. response.status_code = 200)\n",
    "    # If image_id in list, skip, otherwise, try next link\n",
    "    if response.status_code = 200:\n",
    "        im = Image.open(BytesIO(response.content))\n",
    "        \n",
    "        # Resize image using im.thumbnail(size, Image.ANTIALIAS) with 256 as maximum dimension while keeping original image proportions\n",
    "        im.thumbnail(size,Image.ANTIALIAS)\n",
    "        \n",
    "        # Save resulting image as species_no_0000 via im.save in corresponding folder created above\n",
    "        im.save(im_dir)\n",
    "    else:"
   ]
  },
  {
   "cell_type": "code",
   "execution_count": null,
   "metadata": {},
   "outputs": [],
   "source": [
    "#### Current best version\n",
    "\n",
    "import os\n",
    "import requests\n",
    "from PIL import Image\n",
    "from io import BytesIO\n",
    "\n",
    "def image_retrieval(bird_master_df, selection_df, mydir=None):\n",
    "    \n",
    "    # Set default size\n",
    "    size = (256, 256)\n",
    "    \n",
    "    # Initialize image numbering variable\n",
    "    number = 1\n",
    "\n",
    "    # Temporary merged data frame based on filtered version of bird_master_df\n",
    "    temp_df = bird_master_df[bird_master_df['species_no'] == selection_df['species_no'].iloc[0]]\n",
    "    \n",
    "    # Create one folder per species_no and label corresponding to temp_df['species_no'], if it doesn't exist yet\n",
    "    if mydir is None:\n",
    "        mydir = os.getcwd()\n",
    "\n",
    "    # Iterate over rows in temp_df\n",
    "    for index, row in temp_df.iterrows():\n",
    "        \n",
    "        # Locate download links\n",
    "        url_im = row['image_url']\n",
    "\n",
    "        # Attempt download via link ('image_url') from temp_df\n",
    "        response = requests.get(url_im)\n",
    "\n",
    "        # Check if the download was successful\n",
    "        if response.status_code == 200:\n",
    "            im = Image.open(BytesIO(response.content))\n",
    "            \n",
    "            # Resize image using im.thumbnail(size, Image.ANTIALIAS) with 256 as the maximum dimension while keeping original image proportions\n",
    "            im.thumbnail(size, Image.ANTIALIAS)\n",
    "            \n",
    "            # Create folder if it doesn't exist\n",
    "            species_folder = os.path.join(mydir, f\"{row['species_no']}\")\n",
    "            os.makedirs(species_folder, exist_ok=True)\n",
    "\n",
    "            # Save resulting image via im.save as [species_no]_[xxxx].png in the corresponding folder created above\n",
    "            im_dir = os.path.join(species_folder, f\"{row['species_no']}_{number:04d}.png\")\n",
    "            \n",
    "            # Check if the file already exists, if not, save the image\n",
    "            if not os.path.exists(im_dir):\n",
    "                im.save(im_dir)\n",
    "                print(f\"Saved: {im_dir}\")\n",
    "            else:\n",
    "                print(f\"Skipped (already exists): {im_dir}\")\n",
    "            \n",
    "            # Increment the numbering variable for the next image\n",
    "            number += 1"
   ]
  }
 ],
 "metadata": {
  "kernelspec": {
   "display_name": "Python 3 (ipykernel)",
   "language": "python",
   "name": "python3"
  },
  "language_info": {
   "codemirror_mode": {
    "name": "ipython",
    "version": 3
   },
   "file_extension": ".py",
   "mimetype": "text/x-python",
   "name": "python",
   "nbconvert_exporter": "python",
   "pygments_lexer": "ipython3",
   "version": "3.10.6"
  },
  "toc": {
   "base_numbering": 1,
   "nav_menu": {},
   "number_sections": true,
   "sideBar": true,
   "skip_h1_title": false,
   "title_cell": "Table of Contents",
   "title_sidebar": "Contents",
   "toc_cell": false,
   "toc_position": {},
   "toc_section_display": true,
   "toc_window_display": false
  }
 },
 "nbformat": 4,
 "nbformat_minor": 4
}
